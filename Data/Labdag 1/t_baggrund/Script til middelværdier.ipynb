{
 "cells": [
  {
   "cell_type": "code",
   "execution_count": 3,
   "metadata": {},
   "outputs": [
    {
     "name": "stdout",
     "output_type": "stream",
     "text": [
      "   Angle      Mean\n",
      "0     10  4.743104\n",
      "1     20  8.230631\n",
      "2     30  0.009492\n",
      "3     40  4.339411\n",
      "4     50  5.170906\n"
     ]
    }
   ],
   "source": [
    "import numpy as np\n",
    "import matplotlib.pyplot as plt\n",
    "import scipy.stats as ss\n",
    "from scipy.optimize import curve_fit\n",
    "import pandas as pd\n",
    "import glob\n",
    "import os\n",
    "\n",
    "#path = 'Documents\\GitHub\\Forsoeg_1\\Data\\Labdag 1\\r_baggrund'\n",
    "path = r'\\Users\\jeppe\\Documents\\GitHub\\Forsoeg_1\\Data\\Labdag 1\\t_baggrund'\n",
    "paths_temp = glob.glob(path + '\\*')\n",
    "\n",
    "#Fjerner sidste element fra mappen som er denne fil og den nye middel fil\n",
    "indices = 0,6 \n",
    "paths = [i for j, i in enumerate(paths_temp) if j not in indices]\n",
    "\n",
    "#Læser alle .csv filerne ind efter deres vinkler\n",
    "files = []\n",
    "df_temp = []\n",
    "for p in paths:\n",
    "    df_temp1 = []\n",
    "    fs = glob.glob(p+'/*.csv')\n",
    "    files.append(fs)\n",
    "    for f in fs:\n",
    "        csv = pd.read_csv(f,sep=';',skiprows=[1],decimal=',')\n",
    "        df_temp1.append(csv)\n",
    "    df_temp.append(df_temp1)\n",
    "\n",
    "#Samler df_temp til 5 store dfs\n",
    "dfs = [pd.concat(df) for df in df_temp]\n",
    "\n",
    "#Midler df'erne individuelt\n",
    "means = [df['Kanal A'].mean() for df in dfs]\n",
    "\n",
    "#Navngivning af vinkler\n",
    "ang = [10,20,30,40,50]\n",
    "\n",
    "#Dictionary til ny df med middelværdier\n",
    "dict = {'Angle':ang, 'Mean':means}\n",
    "\n",
    "#Df med ny middelværdier\n",
    "df_mean = pd.DataFrame(dict)\n",
    "print(df_mean)\n",
    "\n",
    "#Gemmer som ny .csv\n",
    "df_mean.to_csv('t_baggrund_middel.csv')"
   ]
  },
  {
   "cell_type": "code",
   "execution_count": 7,
   "metadata": {},
   "outputs": [
    {
     "data": {
      "text/plain": [
       "Tid        2.950000\n",
       "Kanal A    4.743104\n",
       "dtype: float64"
      ]
     },
     "execution_count": 7,
     "metadata": {},
     "output_type": "execute_result"
    }
   ],
   "source": [
    "np.mean(dfs[0])"
   ]
  },
  {
   "cell_type": "code",
   "execution_count": 9,
   "metadata": {},
   "outputs": [
    {
     "data": {
      "text/html": [
       "<div>\n",
       "<style scoped>\n",
       "    .dataframe tbody tr th:only-of-type {\n",
       "        vertical-align: middle;\n",
       "    }\n",
       "\n",
       "    .dataframe tbody tr th {\n",
       "        vertical-align: top;\n",
       "    }\n",
       "\n",
       "    .dataframe thead th {\n",
       "        text-align: right;\n",
       "    }\n",
       "</style>\n",
       "<table border=\"1\" class=\"dataframe\">\n",
       "  <thead>\n",
       "    <tr style=\"text-align: right;\">\n",
       "      <th></th>\n",
       "      <th>Tid</th>\n",
       "      <th>Kanal A</th>\n",
       "    </tr>\n",
       "  </thead>\n",
       "  <tbody>\n",
       "    <tr>\n",
       "      <th>0</th>\n",
       "      <td>-4.0</td>\n",
       "      <td>5.604084</td>\n",
       "    </tr>\n",
       "    <tr>\n",
       "      <th>1</th>\n",
       "      <td>-3.9</td>\n",
       "      <td>5.610236</td>\n",
       "    </tr>\n",
       "    <tr>\n",
       "      <th>2</th>\n",
       "      <td>-3.8</td>\n",
       "      <td>5.622539</td>\n",
       "    </tr>\n",
       "    <tr>\n",
       "      <th>3</th>\n",
       "      <td>-3.7</td>\n",
       "      <td>5.634842</td>\n",
       "    </tr>\n",
       "    <tr>\n",
       "      <th>4</th>\n",
       "      <td>-3.6</td>\n",
       "      <td>5.644070</td>\n",
       "    </tr>\n",
       "    <tr>\n",
       "      <th>...</th>\n",
       "      <td>...</td>\n",
       "      <td>...</td>\n",
       "    </tr>\n",
       "    <tr>\n",
       "      <th>135</th>\n",
       "      <td>9.5</td>\n",
       "      <td>7.526451</td>\n",
       "    </tr>\n",
       "    <tr>\n",
       "      <th>136</th>\n",
       "      <td>9.6</td>\n",
       "      <td>7.514148</td>\n",
       "    </tr>\n",
       "    <tr>\n",
       "      <th>137</th>\n",
       "      <td>9.7</td>\n",
       "      <td>7.498769</td>\n",
       "    </tr>\n",
       "    <tr>\n",
       "      <th>138</th>\n",
       "      <td>9.8</td>\n",
       "      <td>7.480314</td>\n",
       "    </tr>\n",
       "    <tr>\n",
       "      <th>139</th>\n",
       "      <td>9.9</td>\n",
       "      <td>7.471087</td>\n",
       "    </tr>\n",
       "  </tbody>\n",
       "</table>\n",
       "<p>4480 rows × 2 columns</p>\n",
       "</div>"
      ],
      "text/plain": [
       "     Tid   Kanal A\n",
       "0   -4.0  5.604084\n",
       "1   -3.9  5.610236\n",
       "2   -3.8  5.622539\n",
       "3   -3.7  5.634842\n",
       "4   -3.6  5.644070\n",
       "..   ...       ...\n",
       "135  9.5  7.526451\n",
       "136  9.6  7.514148\n",
       "137  9.7  7.498769\n",
       "138  9.8  7.480314\n",
       "139  9.9  7.471087\n",
       "\n",
       "[4480 rows x 2 columns]"
      ]
     },
     "execution_count": 9,
     "metadata": {},
     "output_type": "execute_result"
    }
   ],
   "source": [
    "dfs[0]"
   ]
  },
  {
   "cell_type": "code",
   "execution_count": null,
   "metadata": {},
   "outputs": [],
   "source": []
  }
 ],
 "metadata": {
  "kernelspec": {
   "display_name": "Python 3",
   "language": "python",
   "name": "python3"
  },
  "language_info": {
   "codemirror_mode": {
    "name": "ipython",
    "version": 3
   },
   "file_extension": ".py",
   "mimetype": "text/x-python",
   "name": "python",
   "nbconvert_exporter": "python",
   "pygments_lexer": "ipython3",
   "version": "3.8.3"
  }
 },
 "nbformat": 4,
 "nbformat_minor": 4
}
