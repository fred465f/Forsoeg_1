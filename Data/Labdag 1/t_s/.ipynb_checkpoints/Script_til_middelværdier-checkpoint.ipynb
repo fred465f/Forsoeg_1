{
 "cells": [
  {
   "cell_type": "code",
   "execution_count": 1,
   "metadata": {},
   "outputs": [
    {
     "ename": "ValueError",
     "evalue": "list.remove(x): x not in list",
     "output_type": "error",
     "traceback": [
      "\u001b[1;31m---------------------------------------------------------------------------\u001b[0m",
      "\u001b[1;31mValueError\u001b[0m                                Traceback (most recent call last)",
      "\u001b[1;32m<ipython-input-1-138af46d1f6c>\u001b[0m in \u001b[0;36m<module>\u001b[1;34m\u001b[0m\n\u001b[0;32m     13\u001b[0m \u001b[1;31m#Fjerner sidste element fra mappen som er denne fil\u001b[0m\u001b[1;33m\u001b[0m\u001b[1;33m\u001b[0m\u001b[1;33m\u001b[0m\u001b[0m\n\u001b[0;32m     14\u001b[0m \u001b[1;31m#indices = 0\u001b[0m\u001b[1;33m\u001b[0m\u001b[1;33m\u001b[0m\u001b[1;33m\u001b[0m\u001b[0m\n\u001b[1;32m---> 15\u001b[1;33m \u001b[0mpaths_temp\u001b[0m\u001b[1;33m.\u001b[0m\u001b[0mremove\u001b[0m\u001b[1;33m(\u001b[0m\u001b[1;34m'\\\\Users\\\\jeppe\\\\Documents\\\\GitHub\\\\Forsoeg_1\\\\Data\\\\Labdag 1\\\\t_s\\\\Script til middelværdier.ipynb'\u001b[0m\u001b[1;33m)\u001b[0m\u001b[1;33m\u001b[0m\u001b[1;33m\u001b[0m\u001b[0m\n\u001b[0m\u001b[0;32m     16\u001b[0m \u001b[0mpaths_temp\u001b[0m\u001b[1;33m.\u001b[0m\u001b[0mremove\u001b[0m\u001b[1;33m(\u001b[0m\u001b[1;34m'\\\\Users\\\\jeppe\\\\Documents\\\\GitHub\\\\Forsoeg_1\\\\Data\\\\Labdag 1\\\\t_s\\\\r_s_middel.csv'\u001b[0m\u001b[1;33m)\u001b[0m\u001b[1;33m\u001b[0m\u001b[1;33m\u001b[0m\u001b[0m\n\u001b[0;32m     17\u001b[0m \u001b[0mpaths\u001b[0m \u001b[1;33m=\u001b[0m \u001b[0mpaths_temp\u001b[0m\u001b[1;33m\u001b[0m\u001b[1;33m\u001b[0m\u001b[0m\n",
      "\u001b[1;31mValueError\u001b[0m: list.remove(x): x not in list"
     ]
    }
   ],
   "source": [
    "import numpy as np\n",
    "import matplotlib.pyplot as plt\n",
    "import scipy.stats as ss\n",
    "from scipy.optimize import curve_fit\n",
    "import pandas as pd\n",
    "import glob\n",
    "import os\n",
    "\n",
    "#path = 'Documents\\GitHub\\Forsoeg_1\\Data\\Labdag 1\\r_baggrund'\n",
    "path = r'\\Users\\jeppe\\Documents\\GitHub\\Forsoeg_1\\Data\\Labdag 1\\t_p'\n",
    "paths_temp = glob.glob(path + '\\*')\n",
    "\n",
    "#Fjerner sidste element fra mappen som er denne fil\n",
    "#indices = 0\n",
    "paths_temp.remove('\\\\Users\\\\jeppe\\\\Documents\\\\GitHub\\\\Forsoeg_1\\\\Data\\\\Labdag 1\\\\t_s\\\\Script til middelværdier.ipynb')\n",
    "paths_temp.remove('\\\\Users\\\\jeppe\\\\Documents\\\\GitHub\\\\Forsoeg_1\\\\Data\\\\Labdag 1\\\\t_s\\\\r_s_middel.csv')\n",
    "paths = paths_temp\n",
    "\n",
    "\n",
    "#Læser alle .csv filerne ind efter deres vinkler\n",
    "files = []\n",
    "df_temp = []\n",
    "for p in paths:\n",
    "    df_temp1 = []\n",
    "    fs = glob.glob(p+'/*.csv')\n",
    "    files.append(fs)\n",
    "    for f in fs:\n",
    "        csv = pd.read_csv(f,sep=';',skiprows=[1],decimal=',')\n",
    "        df_temp1.append(csv)\n",
    "    df_temp.append(df_temp1)\n",
    "\n",
    "#Samler df_temp til 5 store dfs\n",
    "dfs = [pd.concat(df) for df in df_temp]\n",
    "\n",
    "#Midler df'erne individuelt\n",
    "means = [df['Kanal A'].mean() for df in dfs]\n",
    "\n",
    "#Navngivning af vinkler\n",
    "ang = [10,20,30,40, 50]\n",
    "\n",
    "#Dictionary til ny df med middelværdier\n",
    "dict = {'Angle':ang, 'Mean':means}\n",
    "\n",
    "#Df med ny middelværdier\n",
    "df_mean = pd.DataFrame(dict)\n",
    "print(df_mean)\n",
    "\n",
    "#Gemmer som ny .csv\n",
    "df_mean.to_csv('r_p_middel.csv')"
   ]
  },
  {
   "cell_type": "code",
   "execution_count": null,
   "metadata": {},
   "outputs": [],
   "source": [
    "paths"
   ]
  },
  {
   "cell_type": "code",
   "execution_count": null,
   "metadata": {},
   "outputs": [],
   "source": []
  }
 ],
 "metadata": {
  "kernelspec": {
   "display_name": "Python 3",
   "language": "python",
   "name": "python3"
  },
  "language_info": {
   "codemirror_mode": {
    "name": "ipython",
    "version": 3
   },
   "file_extension": ".py",
   "mimetype": "text/x-python",
   "name": "python",
   "nbconvert_exporter": "python",
   "pygments_lexer": "ipython3",
   "version": "3.8.3"
  }
 },
 "nbformat": 4,
 "nbformat_minor": 4
}
