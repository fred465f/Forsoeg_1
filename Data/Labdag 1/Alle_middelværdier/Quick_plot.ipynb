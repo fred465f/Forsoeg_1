{
 "cells": [
  {
   "cell_type": "code",
   "execution_count": 1,
   "metadata": {},
   "outputs": [
    {
     "data": {
      "text/plain": [
       "['\\\\Users\\\\jeppe\\\\Documents\\\\GitHub\\\\Forsoeg_1\\\\Data\\\\Labdag 1\\\\Alle_middelværdier\\\\Data\\\\r_baggrund_middel.csv',\n",
       " '\\\\Users\\\\jeppe\\\\Documents\\\\GitHub\\\\Forsoeg_1\\\\Data\\\\Labdag 1\\\\Alle_middelværdier\\\\Data\\\\r_p_middel.csv',\n",
       " '\\\\Users\\\\jeppe\\\\Documents\\\\GitHub\\\\Forsoeg_1\\\\Data\\\\Labdag 1\\\\Alle_middelværdier\\\\Data\\\\r_s_middel.csv',\n",
       " '\\\\Users\\\\jeppe\\\\Documents\\\\GitHub\\\\Forsoeg_1\\\\Data\\\\Labdag 1\\\\Alle_middelværdier\\\\Data\\\\t_baggrund_middel.csv',\n",
       " '\\\\Users\\\\jeppe\\\\Documents\\\\GitHub\\\\Forsoeg_1\\\\Data\\\\Labdag 1\\\\Alle_middelværdier\\\\Data\\\\t_p_middel.csv',\n",
       " '\\\\Users\\\\jeppe\\\\Documents\\\\GitHub\\\\Forsoeg_1\\\\Data\\\\Labdag 1\\\\Alle_middelværdier\\\\Data\\\\t_s_middel.csv']"
      ]
     },
     "execution_count": 1,
     "metadata": {},
     "output_type": "execute_result"
    }
   ],
   "source": [
    "import numpy as np\n",
    "import matplotlib.pyplot as plt\n",
    "import scipy.stats as ss\n",
    "from scipy.optimize import curve_fit\n",
    "import pandas as pd\n",
    "import glob\n",
    "import seaborn as sns\n",
    "\n",
    "\n",
    "path = r'\\Users\\jeppe\\Documents\\GitHub\\Forsoeg_1\\Data\\Labdag 1\\Alle_middelværdier\\Data'\n",
    "paths_temp = glob.glob(path + '\\*')\n",
    "paths_temp"
   ]
  },
  {
   "cell_type": "code",
   "execution_count": 2,
   "metadata": {},
   "outputs": [],
   "source": [
    "t_df = []\n",
    "r_df = []\n",
    "for path in paths_temp:\n",
    "    path_split = path.split('\\\\')\n",
    "    if path_split[-1].split('_')[0] == 't':\n",
    "        t_df.append(pd.read_csv(path_split[-2] + '/' + path_split[-1]))\n",
    "    elif path_split[-1].split('_')[0] == 'r':\n",
    "        r_df.append(pd.read_csv(path_split[-2] + '/' + path_split[-1]))\n"
   ]
  },
  {
   "cell_type": "code",
   "execution_count": 3,
   "metadata": {},
   "outputs": [],
   "source": [
    "t_p = pd.DataFrame({})\n",
    "t_s = pd.DataFrame({})\n",
    "t_p['Mean'] = t_df[1]['Mean']-t_df[0]['Mean']\n",
    "t_s['Mean'] = t_df[2]['Mean']-t_df[0]['Mean']\n",
    "t_p['Angle'] = t_df[0]['Angle']\n",
    "t_s['Angle'] = t_df[0]['Angle']\n",
    "t_p['Polarization'] = ['p' for i in range(len(t_df[0]['Angle']))]\n",
    "t_s['Polarization'] = ['s' for i in range(len(t_df[0]['Angle']))]\n",
    "t = pd.concat([t_p, t_s])"
   ]
  },
  {
   "cell_type": "code",
   "execution_count": 4,
   "metadata": {},
   "outputs": [
    {
     "data": {
      "text/html": [
       "<div>\n",
       "<style scoped>\n",
       "    .dataframe tbody tr th:only-of-type {\n",
       "        vertical-align: middle;\n",
       "    }\n",
       "\n",
       "    .dataframe tbody tr th {\n",
       "        vertical-align: top;\n",
       "    }\n",
       "\n",
       "    .dataframe thead th {\n",
       "        text-align: right;\n",
       "    }\n",
       "</style>\n",
       "<table border=\"1\" class=\"dataframe\">\n",
       "  <thead>\n",
       "    <tr style=\"text-align: right;\">\n",
       "      <th></th>\n",
       "      <th>Mean</th>\n",
       "      <th>Angle</th>\n",
       "      <th>Polarization</th>\n",
       "    </tr>\n",
       "  </thead>\n",
       "  <tbody>\n",
       "    <tr>\n",
       "      <th>0</th>\n",
       "      <td>-3.862738</td>\n",
       "      <td>10</td>\n",
       "      <td>p</td>\n",
       "    </tr>\n",
       "    <tr>\n",
       "      <th>1</th>\n",
       "      <td>-7.473167</td>\n",
       "      <td>20</td>\n",
       "      <td>p</td>\n",
       "    </tr>\n",
       "    <tr>\n",
       "      <th>2</th>\n",
       "      <td>0.876614</td>\n",
       "      <td>30</td>\n",
       "      <td>p</td>\n",
       "    </tr>\n",
       "    <tr>\n",
       "      <th>3</th>\n",
       "      <td>-3.675196</td>\n",
       "      <td>40</td>\n",
       "      <td>p</td>\n",
       "    </tr>\n",
       "    <tr>\n",
       "      <th>4</th>\n",
       "      <td>-4.502994</td>\n",
       "      <td>50</td>\n",
       "      <td>p</td>\n",
       "    </tr>\n",
       "    <tr>\n",
       "      <th>0</th>\n",
       "      <td>-3.533199</td>\n",
       "      <td>10</td>\n",
       "      <td>s</td>\n",
       "    </tr>\n",
       "    <tr>\n",
       "      <th>1</th>\n",
       "      <td>-7.276406</td>\n",
       "      <td>20</td>\n",
       "      <td>s</td>\n",
       "    </tr>\n",
       "    <tr>\n",
       "      <th>2</th>\n",
       "      <td>1.227460</td>\n",
       "      <td>30</td>\n",
       "      <td>s</td>\n",
       "    </tr>\n",
       "    <tr>\n",
       "      <th>3</th>\n",
       "      <td>-3.445117</td>\n",
       "      <td>40</td>\n",
       "      <td>s</td>\n",
       "    </tr>\n",
       "    <tr>\n",
       "      <th>4</th>\n",
       "      <td>-4.376734</td>\n",
       "      <td>50</td>\n",
       "      <td>s</td>\n",
       "    </tr>\n",
       "  </tbody>\n",
       "</table>\n",
       "</div>"
      ],
      "text/plain": [
       "       Mean  Angle Polarization\n",
       "0 -3.862738     10            p\n",
       "1 -7.473167     20            p\n",
       "2  0.876614     30            p\n",
       "3 -3.675196     40            p\n",
       "4 -4.502994     50            p\n",
       "0 -3.533199     10            s\n",
       "1 -7.276406     20            s\n",
       "2  1.227460     30            s\n",
       "3 -3.445117     40            s\n",
       "4 -4.376734     50            s"
      ]
     },
     "execution_count": 4,
     "metadata": {},
     "output_type": "execute_result"
    }
   ],
   "source": [
    "t"
   ]
  },
  {
   "cell_type": "code",
   "execution_count": 5,
   "metadata": {},
   "outputs": [
    {
     "data": {
      "text/plain": [
       "<matplotlib.axes._subplots.AxesSubplot at 0x1a5684e25e0>"
      ]
     },
     "execution_count": 5,
     "metadata": {},
     "output_type": "execute_result"
    },
    {
     "data": {
      "image/png": "[encoded data removed]",
      "text/plain": [
       "<Figure size 432x288 with 1 Axes>"
      ]
     },
     "metadata": {
      "needs_background": "light"
     },
     "output_type": "display_data"
    }
   ],
   "source": [
    "sns.scatterplot(data=t,x='Angle',y='Mean',hue='Polarization')"
   ]
  },
  {
   "cell_type": "code",
   "execution_count": 13,
   "metadata": {},
   "outputs": [
    {
     "data": {
      "text/plain": [
       "<matplotlib.axes._subplots.AxesSubplot at 0x1a568f72490>"
      ]
     },
     "execution_count": 13,
     "metadata": {},
     "output_type": "execute_result"
    },
    {
     "data": {
      "image/png": "[encoded data removed]",
      "text/plain": [
       "<Figure size 432x288 with 1 Axes>"
      ]
     },
     "metadata": {
      "needs_background": "light"
     },
     "output_type": "display_data"
    }
   ],
   "source": [
    "sns.scatterplot(data=t_df[1],x='Angle',y='Mean')"
   ]
  },
  {
   "cell_type": "code",
   "execution_count": 12,
   "metadata": {},
   "outputs": [
    {
     "data": {
      "text/plain": [
       "<matplotlib.axes._subplots.AxesSubplot at 0x1a568f100a0>"
      ]
     },
     "execution_count": 12,
     "metadata": {},
     "output_type": "execute_result"
    },
    {
     "data": {
      "image/png": "[encoded data removed]",
      "text/plain": [
       "<Figure size 432x288 with 1 Axes>"
      ]
     },
     "metadata": {
      "needs_background": "light"
     },
     "output_type": "display_data"
    }
   ],
   "source": [
    "sns.scatterplot(data=r_df[1],x='Angle',y='Mean')"
   ]
  },
  {
   "cell_type": "code",
   "execution_count": null,
   "metadata": {},
   "outputs": [],
   "source": []
  }
 ],
 "metadata": {
  "kernelspec": {
   "display_name": "Python 3",
   "language": "python",
   "name": "python3"
  },
  "language_info": {
   "codemirror_mode": {
    "name": "ipython",
    "version": 3
   },
   "file_extension": ".py",
   "mimetype": "text/x-python",
   "name": "python",
   "nbconvert_exporter": "python",
   "pygments_lexer": "ipython3",
   "version": "3.8.3"
  }
 },
 "nbformat": 4,
 "nbformat_minor": 4
}
