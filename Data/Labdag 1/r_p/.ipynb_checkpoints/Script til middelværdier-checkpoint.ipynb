{
 "cells": [
  {
   "cell_type": "code",
   "execution_count": 1,
   "metadata": {},
   "outputs": [
    {
     "name": "stdout",
     "output_type": "stream",
     "text": [
      "   Angle       Mean\n",
      "0     10  34.445886\n",
      "1     20  33.830692\n",
      "2     30  26.831202\n",
      "3     40  18.082678\n"
     ]
    }
   ],
   "source": [
    "import numpy as np\n",
    "import matplotlib.pyplot as plt\n",
    "import scipy.stats as ss\n",
    "from scipy.optimize import curve_fit\n",
    "import pandas as pd\n",
    "import glob\n",
    "import os\n",
    "\n",
    "#path = 'Documents\\GitHub\\Forsoeg_1\\Data\\Labdag 1\\r_baggrund'\n",
    "path = r'\\Users\\jeppe\\Documents\\GitHub\\Forsoeg_1\\Data\\Labdag 1\\r_p'\n",
    "paths_temp = glob.glob(path + '\\*')\n",
    "\n",
    "#Fjerner sidste element fra mappen som er denne fil\n",
    "indices = 4, 5\n",
    "paths = [i for j, i in enumerate(paths_temp) if j not in indices]\n",
    "\n",
    "#Læser alle .csv filerne ind efter deres vinkler\n",
    "files = []\n",
    "df_temp = []\n",
    "for p in paths:\n",
    "    df_temp1 = []\n",
    "    fs = glob.glob(p+'/*.csv')\n",
    "    files.append(fs)\n",
    "    for f in fs:\n",
    "        csv = pd.read_csv(f,sep=';',skiprows=[1],decimal=',')\n",
    "        df_temp1.append(csv)\n",
    "    df_temp.append(df_temp1)\n",
    "\n",
    "#Samler df_temp til 5 store dfs\n",
    "dfs = [pd.concat(df) for df in df_temp]\n",
    "\n",
    "#Midler df'erne individuelt\n",
    "means = [df['Kanal A'].mean() for df in dfs]\n",
    "\n",
    "#Navngivning af vinkler\n",
    "ang = [10,20,30,40]\n",
    "\n",
    "#Dictionary til ny df med middelværdier\n",
    "dict = {'Angle':ang, 'Mean':means}\n",
    "\n",
    "#Df med ny middelværdier\n",
    "df_mean = pd.DataFrame(dict)\n",
    "print(df_mean)\n",
    "\n",
    "#Gemmer som ny .csv\n",
    "df_mean.to_csv('r_p_middel.csv')"
   ]
  },
  {
   "cell_type": "code",
   "execution_count": null,
   "metadata": {},
   "outputs": [],
   "source": []
  }
 ],
 "metadata": {
  "kernelspec": {
   "display_name": "Python 3",
   "language": "python",
   "name": "python3"
  },
  "language_info": {
   "codemirror_mode": {
    "name": "ipython",
    "version": 3
   },
   "file_extension": ".py",
   "mimetype": "text/x-python",
   "name": "python",
   "nbconvert_exporter": "python",
   "pygments_lexer": "ipython3",
   "version": "3.8.3"
  }
 },
 "nbformat": 4,
 "nbformat_minor": 4
}
