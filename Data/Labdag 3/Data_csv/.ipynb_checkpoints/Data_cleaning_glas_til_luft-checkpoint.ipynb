{
 "cells": [
  {
   "cell_type": "code",
   "execution_count": 1,
   "metadata": {},
   "outputs": [],
   "source": [
    "import numpy as np\n",
    "import matplotlib.pyplot as plt\n",
    "import scipy.stats as ss\n",
    "from scipy.optimize import curve_fit\n",
    "import pandas as pd\n",
    "import glob\n",
    "import seaborn as sns\n",
    "\n",
    "df_data = pd.read_csv('Data_glas_til_luft.csv')\n",
    "df_back = pd.read_csv('Data_glas_til_luft_baggrund.csv')\n",
    "df_init = pd.read_csv('Fuld_styrke_måling.csv')\n",
    "\n",
    "df_back['Volt'] = 10**(-3)* df_back['Volt_mV']\n",
    "df_back['Volt_alpha'] = 10**(-3)* df_back['Volt_alpha_mV']\n",
    "df_data['Volt_alpha'] = 10**(-3)* df_data['Volt_alpha_mV']\n",
    "\n",
    "#df_init['Volt'] = 10**(-3)* df_init['Volt_mV']\n",
    "df_init['Volt_alpha'] = 10**(-3)* df_init['Volt_alpha_mV']\n"
   ]
  },
  {
   "cell_type": "code",
   "execution_count": 2,
   "metadata": {},
   "outputs": [],
   "source": [
    "#Splitter DataFrame afhængigt af polarisation of refleksion/transmission. NB: Kan forbedres\n",
    "df_p_t = df_data[(df_data['Polarization'] == 'p') & (df_data['Reflected/Transmitted'] == 't')]\n",
    "df_p_r = df_data[(df_data['Polarization'] == 'p') & (df_data['Reflected/Transmitted'] == 'r')]\n",
    "\n",
    "df_s_t = df_data[(df_data['Polarization'] == 's') & (df_data['Reflected/Transmitted'] == 't')]\n",
    "df_s_r = df_data[(df_data['Polarization'] == 's') & (df_data['Reflected/Transmitted'] == 'r')]\n",
    "\n",
    "df_t_back = df_back[(df_back['Reflected/Transmitted'] == 't')]\n",
    "df_r_back = df_back[(df_back['Reflected/Transmitted'] == 'r')]\n",
    "\n",
    "df_p_t.reset_index(drop=True,inplace=True)\n",
    "df_p_r.reset_index(drop=True,inplace=True)\n",
    "df_s_t.reset_index(drop=True,inplace=True)\n",
    "df_s_r.reset_index(drop=True,inplace=True)\n",
    "df_t_back.reset_index(drop=True,inplace=True)\n",
    "df_r_back.reset_index(drop=True,inplace=True)"
   ]
  },
  {
   "cell_type": "code",
   "execution_count": 3,
   "metadata": {},
   "outputs": [],
   "source": [
    "#Nye DFs konstrueres\n",
    "df_p_t_corr = df_p_t[['Angle_small','Angle_big','Angle_alpha']].copy()\n",
    "df_p_t_corr['Volt_Corr'] = df_p_t['Volt_V'] - df_t_back['Volt']\n",
    "df_p_t_corr['Error1'] = df_p_t['Volt_alpha'].copy()\n",
    "df_p_t_corr['Error2'] = df_t_back['Volt']\n",
    "\n",
    "\n",
    "df_p_r_corr = df_p_r[['Angle_small','Angle_big','Angle_alpha']].copy()\n",
    "df_p_r_corr['Volt_Corr'] = df_p_r['Volt_V'] - df_r_back['Volt']\n",
    "df_p_r_corr['Error1'] = df_p_r['Volt_alpha'].copy()\n",
    "df_p_r_corr['Error2'] = df_r_back['Volt']\n",
    "\n",
    "df_s_t_corr = df_s_t[['Angle_small','Angle_big','Angle_alpha']].copy()\n",
    "df_s_t_corr['Volt_Corr'] = df_s_t['Volt_V'] - df_t_back['Volt']\n",
    "df_s_t_corr['Error1'] = df_s_t['Volt_alpha'].copy()\n",
    "df_s_t_corr['Error2'] = df_t_back['Volt']\n",
    "\n",
    "df_s_r_corr = df_s_r[['Angle_small','Angle_big','Angle_alpha']].copy()\n",
    "df_s_r_corr['Volt_Corr'] = df_s_r['Volt_V'] - df_r_back['Volt']\n",
    "df_s_r_corr['Error1'] = df_s_r['Volt_alpha'].copy()\n",
    "df_s_r_corr['Error2'] = df_r_back['Volt']"
   ]
  },
  {
   "cell_type": "code",
   "execution_count": 4,
   "metadata": {},
   "outputs": [],
   "source": [
    "def propagate(x):\n",
    "    return np.sqrt(x[4]**2 + x[5]**2)\n",
    "    \n",
    "df_p_t_corr['Err_prop'] = df_p_t_corr.apply(propagate, axis = 1)\n",
    "df_p_r_corr['Err_prop'] = df_p_r_corr.apply(propagate, axis = 1)\n",
    "df_s_t_corr['Err_prop'] = df_s_t_corr.apply(propagate, axis = 1)\n",
    "df_s_r_corr['Err_prop'] = df_s_r_corr.apply(propagate, axis = 1)"
   ]
  },
  {
   "cell_type": "code",
   "execution_count": 5,
   "metadata": {},
   "outputs": [],
   "source": [
    "#intensiteter beregnes\n",
    "dfs_s = [df_s_t_corr, df_s_r_corr]\n",
    "dfs_p = [df_p_t_corr, df_p_r_corr]\n",
    "def intensity_p(x):\n",
    "    return x[3]/(df_init.iloc[0][1])\n",
    "def intensity_s(x):\n",
    "    return x[3]/(df_s_t_corr.iloc[0][1])\n",
    "\n",
    "vals_s = []\n",
    "for x in dfs_s:\n",
    "    a = x.apply(intensity_s, axis = 1)\n",
    "    vals_s.append(a)\n",
    "\n",
    "vals_p = []\n",
    "for x in dfs_p:\n",
    "    a = x.apply(intensity_p, axis = 1)\n",
    "    vals_p.append(a)"
   ]
  },
  {
   "cell_type": "code",
   "execution_count": 6,
   "metadata": {},
   "outputs": [],
   "source": [
    "#intensiteter klaskes på\n",
    "df_s_t_corr['Coff'] = vals_s[0]\n",
    "df_s_r_corr['Coff'] = vals_s[1]\n",
    "\n",
    "df_p_t_corr['Coff'] = vals_p[0]\n",
    "df_p_r_corr['Coff'] = vals_p[1]"
   ]
  },
  {
   "cell_type": "code",
   "execution_count": 7,
   "metadata": {},
   "outputs": [
    {
     "data": {
      "text/html": [
       "<div>\n",
       "<style scoped>\n",
       "    .dataframe tbody tr th:only-of-type {\n",
       "        vertical-align: middle;\n",
       "    }\n",
       "\n",
       "    .dataframe tbody tr th {\n",
       "        vertical-align: top;\n",
       "    }\n",
       "\n",
       "    .dataframe thead th {\n",
       "        text-align: right;\n",
       "    }\n",
       "</style>\n",
       "<table border=\"1\" class=\"dataframe\">\n",
       "  <thead>\n",
       "    <tr style=\"text-align: right;\">\n",
       "      <th></th>\n",
       "      <th>Polarization</th>\n",
       "      <th>Volt_mV</th>\n",
       "      <th>Volt_alpha_mV</th>\n",
       "      <th>Volt_alpha</th>\n",
       "    </tr>\n",
       "  </thead>\n",
       "  <tbody>\n",
       "    <tr>\n",
       "      <th>0</th>\n",
       "      <td>p</td>\n",
       "      <td>1.980</td>\n",
       "      <td>16.67</td>\n",
       "      <td>0.01667</td>\n",
       "    </tr>\n",
       "    <tr>\n",
       "      <th>1</th>\n",
       "      <td>s</td>\n",
       "      <td>3.528</td>\n",
       "      <td>14.82</td>\n",
       "      <td>0.01482</td>\n",
       "    </tr>\n",
       "  </tbody>\n",
       "</table>\n",
       "</div>"
      ],
      "text/plain": [
       "  Polarization  Volt_mV  Volt_alpha_mV  Volt_alpha\n",
       "0            p    1.980          16.67     0.01667\n",
       "1            s    3.528          14.82     0.01482"
      ]
     },
     "execution_count": 7,
     "metadata": {},
     "output_type": "execute_result"
    }
   ],
   "source": [
    "#Reduktion af t df'erne - kør en gang\n",
    "#df_p_t_corr.drop([0,1,2],inplace=True)\n",
    "#df_p_t_corr.reset_index(drop=True,inplace=True)\n",
    "\n",
    "#df_s_t_corr.drop([0,1,2],inplace=True)\n",
    "#df_s_t_corr.reset_index(drop=True,inplace=True)\n",
    "\n",
    "#df_s_t_corr\n",
    "df_init"
   ]
  },
  {
   "cell_type": "code",
   "execution_count": 8,
   "metadata": {},
   "outputs": [],
   "source": [
    "#Sum R + T\n",
    "a = df_p_t_corr['Coff'] + df_p_r_corr['Coff'] \n",
    "b = df_s_t_corr['Coff'] + df_s_r_corr['Coff']"
   ]
  },
  {
   "cell_type": "code",
   "execution_count": 9,
   "metadata": {},
   "outputs": [],
   "source": [
    "def err_prop_p(x):\n",
    "    return (1/abs(df_init.iloc[0][1]))*np.sqrt(x[-2]**2 + (x[2]/df_init.iloc[0][1])**2*(df_init.iloc[0][3])**2)\n",
    "\n",
    "def err_prop_s(x):\n",
    "    return (1/abs(df_init.iloc[1][1]))*np.sqrt(x[-2]**2 + (x[2]/df_init.iloc[1][1])**2*(df_init.iloc[1][3])**2)\n",
    "\n",
    "err_p = []\n",
    "for x in dfs_p:\n",
    "    a = x.apply(err_prop_p, axis = 1)\n",
    "    err_p.append(a)\n",
    "\n",
    "err_s = []\n",
    "for x in dfs_s:\n",
    "    a = x.apply(err_prop_s, axis = 1)\n",
    "    err_s.append(a)"
   ]
  },
  {
   "cell_type": "code",
   "execution_count": 10,
   "metadata": {},
   "outputs": [],
   "source": [
    "df_s_t_corr['Err_Coff'] = err_s[0]\n",
    "df_s_r_corr['Err_Coff'] = err_s[1]\n",
    "\n",
    "df_p_t_corr['Err_Coff'] = err_p[0]\n",
    "df_p_r_corr['Err_Coff'] = err_p[1]\n",
    "\n",
    "\n",
    "#KØR KUN EN GANG. DENNE FJERNER PUNKTET FOR Angle_small=42\n",
    "df_p_t_corr.drop([9],inplace=True)\n",
    "df_p_t_corr.reset_index(drop=True,inplace=True)\n",
    "\n",
    "df_s_t_corr.drop([9],inplace=True)\n",
    "df_s_t_corr.reset_index(drop=True,inplace=True)\n",
    "\n",
    "df_p_r_corr.drop([9],inplace=True)\n",
    "df_p_r_corr.reset_index(drop=True,inplace=True)\n",
    "\n",
    "df_s_r_corr.drop([9],inplace=True)\n",
    "df_s_r_corr.reset_index(drop=True,inplace=True)"
   ]
  },
  {
   "cell_type": "code",
   "execution_count": 11,
   "metadata": {},
   "outputs": [
    {
     "data": {
      "text/plain": [
       "<matplotlib.legend.Legend at 0x18709cf4be0>"
      ]
     },
     "execution_count": 11,
     "metadata": {},
     "output_type": "execute_result"
    },
    {
     "data": {
      "image/png": "[encoded data removed]",
      "text/plain": [
       "<Figure size 720x360 with 1 Axes>"
      ]
     },
     "metadata": {
      "needs_background": "light"
     },
     "output_type": "display_data"
    }
   ],
   "source": [
    "#Sketch\n",
    "fig, ax = plt.subplots(figsize=(10,5))\n",
    "plt.errorbar(x=df_p_r_corr['Angle_small'],y=df_p_r_corr['Coff'],\n",
    "             fmt='o',mfc='r',mec='r',ms=8,\n",
    "             xerr=df_p_r_corr['Angle_alpha'],yerr=df_p_r_corr['Err_Coff'], \n",
    "             ecolor='k',label='R_p')\n",
    "\n",
    "plt.errorbar(x=df_s_r_corr['Angle_small'],y=df_s_r_corr['Coff'],\n",
    "             fmt='o',mfc='b',mec='b',ms=8,\n",
    "             xerr=df_s_r_corr['Angle_alpha'],yerr=df_s_r_corr['Err_Coff'], \n",
    "             ecolor='k',label='R_s')\n",
    "ax.grid()\n",
    "ax.legend()"
   ]
  },
  {
   "cell_type": "code",
   "execution_count": 12,
   "metadata": {},
   "outputs": [],
   "source": [
    "#Samlet DF\n",
    "Final_df = df_p_t_corr[['Angle_small','Angle_big','Angle_alpha']].copy()\n",
    "Final_df['Angle_big_t'] = df_p_t_corr['Angle_big']\n",
    "Final_df['Angle_big_r'] = df_p_r_corr['Angle_big']\n",
    "Final_df['Coff_Rp'] = df_p_r_corr['Coff']\n",
    "Final_df['Coff_Rp_err'] = df_p_r_corr['Err_Coff']\n",
    "Final_df['Coff_Rs'] = df_s_r_corr['Coff']\n",
    "Final_df['Coff_Rs_err'] = df_s_r_corr['Err_Coff']\n",
    "\n",
    "Final_df['Coff_Tp'] = df_p_t_corr['Coff']\n",
    "Final_df['Coff_Tp_err'] = df_p_t_corr['Err_Coff']\n",
    "Final_df['Coff_Ts'] = df_s_t_corr['Coff']\n",
    "Final_df['Coff_Ts_err'] = df_s_t_corr['Err_Coff']\n",
    "\n",
    "Final_df.to_csv('Samlet_glas_til_luft_df.csv', index=False)"
   ]
  },
  {
   "cell_type": "code",
   "execution_count": null,
   "metadata": {},
   "outputs": [],
   "source": []
  }
 ],
 "metadata": {
  "kernelspec": {
   "display_name": "Python 3",
   "language": "python",
   "name": "python3"
  },
  "language_info": {
   "codemirror_mode": {
    "name": "ipython",
    "version": 3
   },
   "file_extension": ".py",
   "mimetype": "text/x-python",
   "name": "python",
   "nbconvert_exporter": "python",
   "pygments_lexer": "ipython3",
   "version": "3.8.3"
  }
 },
 "nbformat": 4,
 "nbformat_minor": 4
}
