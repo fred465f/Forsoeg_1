{
 "cells": [
  {
   "cell_type": "code",
   "execution_count": null,
   "metadata": {},
   "outputs": [],
   "source": [
    "import numpy as np\n",
    "import matplotlib.pyplot as plt\n",
    "import scipy.stats as ss\n",
    "from scipy.optimize import curve_fit\n",
    "import pandas as pd\n",
    "import glob\n",
    "import seaborn as sns\n",
    "\n",
    "df_data = pd.read_csv('Data_luft_til_glas.csv')\n",
    "df_back = pd.read_csv('Data_luft_til_glas_background.csv')\n",
    "\n",
    "df_back['Volt'] = 10**(-3)* df_back['Volt_mV']\n",
    "df_back['Volt_alpha'] = 10**(-3)* df_back['Volt_alpha_mV']\n",
    "df_data['Volt_alpha'] = 10**(-3)* df_data['Volt_alpha_mV']"
   ]
  },
  {
   "cell_type": "code",
   "execution_count": null,
   "metadata": {},
   "outputs": [],
   "source": [
    "#Splitter DataFrame afhængigt af polarisation of refleksion/transmission. NB: Kan forbedres\n",
    "df_p_t = df_data[(df_data['Polarization'] == 'p') & (df_data['Reflected/Transmitted'] == 't')]\n",
    "df_p_r = df_data[(df_data['Polarization'] == 'p') & (df_data['Reflected/Transmitted'] == 'r')]\n",
    "\n",
    "df_s_t = df_data[(df_data['Polarization'] == 's') & (df_data['Reflected/Transmitted'] == 't')]\n",
    "df_s_r = df_data[(df_data['Polarization'] == 's') & (df_data['Reflected/Transmitted'] == 'r')]\n",
    "\n",
    "df_t_back = df_back[(df_back['Reflected/Transmitted'] == 't')]\n",
    "df_r_back = df_back[(df_back['Reflected/Transmitted'] == 'r')]\n",
    "\n",
    "df_p_t.reset_index(drop=True,inplace=True)\n",
    "df_p_r.reset_index(drop=True,inplace=True)\n",
    "df_s_t.reset_index(drop=True,inplace=True)\n",
    "df_s_r.reset_index(drop=True,inplace=True)\n",
    "df_t_back.reset_index(drop=True,inplace=True)\n",
    "df_r_back.reset_index(drop=True,inplace=True)"
   ]
  },
  {
   "cell_type": "code",
   "execution_count": null,
   "metadata": {},
   "outputs": [],
   "source": [
    "#Nye DFs konstrueres\n",
    "df_p_t_corr = df_p_t[['Angle','Angle_alpha']].copy()\n",
    "df_p_t_corr['Volt_Corr'] = df_p_t['Volt_V'] - df_t_back['Volt']\n",
    "df_p_t_corr['Error1'] = df_p_t['Volt_alpha'].copy()\n",
    "df_p_t_corr['Error2'] = df_t_back['Volt']\n",
    "\n",
    "\n",
    "df_p_r_corr = df_p_r[['Angle','Angle_alpha']].copy()\n",
    "df_p_r_corr['Volt_Corr'] = df_p_r['Volt_V'] - df_r_back['Volt']\n",
    "df_p_r_corr['Error1'] = df_p_r['Volt_alpha'].copy()\n",
    "df_p_r_corr['Error2'] = df_r_back['Volt']\n",
    "\n",
    "df_s_t_corr = df_s_t[['Angle','Angle_alpha']].copy()\n",
    "df_s_t_corr['Volt_Corr'] = df_s_t['Volt_V'] - df_t_back['Volt']\n",
    "df_s_t_corr['Error1'] = df_s_t['Volt_alpha'].copy()\n",
    "df_s_t_corr['Error2'] = df_t_back['Volt']\n",
    "\n",
    "df_s_r_corr = df_s_r[['Angle','Angle_alpha']].copy()\n",
    "df_s_r_corr['Volt_Corr'] = df_s_r['Volt_V'] - df_r_back['Volt']\n",
    "df_s_r_corr['Error1'] = df_s_r['Volt_alpha'].copy()\n",
    "df_s_r_corr['Error2'] = df_r_back['Volt']\n"
   ]
  },
  {
   "cell_type": "code",
   "execution_count": null,
   "metadata": {},
   "outputs": [],
   "source": [
    "def propagate(x):\n",
    "    return np.sqrt(x[3]**2 + x[4]**2)\n",
    "    \n",
    "df_p_t_corr['Err_prop'] = df_p_t_corr.apply(propagate, axis = 1)\n",
    "df_p_r_corr['Err_prop'] = df_p_r_corr.apply(propagate, axis = 1)\n",
    "df_s_t_corr['Err_prop'] = df_s_t_corr.apply(propagate, axis = 1)\n",
    "df_s_r_corr['Err_prop'] = df_s_r_corr.apply(propagate, axis = 1)\n",
    "\n",
    "Ip0 = df_p_t_corr.iloc[0][2]\n",
    "Is0 = df_s_t_corr.iloc[0][2] \n",
    "\n",
    "Ip_err = df_p_t_corr.iloc[0][-1]\n",
    "Is_err = df_s_t_corr.iloc[0][-1]"
   ]
  },
  {
   "cell_type": "code",
   "execution_count": null,
   "metadata": {},
   "outputs": [],
   "source": [
    "fig, ax = plt.subplots(figsize=(10,5))\n",
    "plt.errorbar(x=df_p_r_corr['Angle'],y=df_p_r_corr['Volt_Corr'],\n",
    "             fmt='o',mfc='r',mec='r',ms=8,\n",
    "             xerr=df_p_r_corr['Angle_alpha'],yerr=df_p_r_corr['Err_prop'], \n",
    "             ecolor='k')\n",
    "ax.grid()"
   ]
  },
  {
   "cell_type": "code",
   "execution_count": null,
   "metadata": {},
   "outputs": [],
   "source": [
    "fig, ax = plt.subplots(figsize=(10,5))\n",
    "plt.errorbar(x=df_s_r_corr['Angle'],y=df_s_r_corr['Volt_Corr'],\n",
    "             fmt='o',mfc='r',mec='r',ms=8,\n",
    "             xerr=df_s_r_corr['Angle_alpha'],yerr=df_s_r_corr['Err_prop'], \n",
    "             ecolor='k')\n",
    "ax.grid()"
   ]
  },
  {
   "cell_type": "code",
   "execution_count": null,
   "metadata": {},
   "outputs": [],
   "source": [
    "df_p_t_corr\n",
    "\n",
    "df_s_t_corr"
   ]
  },
  {
   "cell_type": "code",
   "execution_count": null,
   "metadata": {},
   "outputs": [],
   "source": [
    "#intensiteter beregnes\n",
    "dfs_s = [df_s_t_corr, df_s_r_corr]\n",
    "dfs_p = [df_p_t_corr, df_p_r_corr]\n",
    "def intensity_p(x):\n",
    "    return x[2]/(df_p_t_corr.iloc[0][2])\n",
    "def intensity_s(x):\n",
    "    return x[2]/(df_s_t_corr.iloc[0][2])\n",
    "\n",
    "vals_s = []\n",
    "for x in dfs_s:\n",
    "    a = x.apply(intensity_s, axis = 1)\n",
    "    vals_s.append(a)\n",
    "\n",
    "vals_p = []\n",
    "for x in dfs_p:\n",
    "    a = x.apply(intensity_p, axis = 1)\n",
    "    vals_p.append(a)"
   ]
  },
  {
   "cell_type": "code",
   "execution_count": null,
   "metadata": {},
   "outputs": [],
   "source": [
    "#intensiteter klaskes på\n",
    "df_s_t_corr['Coff'] = vals_s[0]\n",
    "df_s_r_corr['Coff'] = vals_s[1]\n",
    "\n",
    "df_p_t_corr['Coff'] = vals_p[0]\n",
    "df_p_r_corr['Coff'] = vals_p[1]"
   ]
  },
  {
   "cell_type": "code",
   "execution_count": null,
   "metadata": {},
   "outputs": [],
   "source": [
    "#Reduktion af t df'erne - kør en gang\n",
    "df_p_t_corr.drop([0,1,2],inplace=True)\n",
    "df_p_t_corr.reset_index(drop=True,inplace=True)\n",
    "\n",
    "df_s_t_corr.drop([0,1,2],inplace=True)\n",
    "df_s_t_corr.reset_index(drop=True,inplace=True)"
   ]
  },
  {
   "cell_type": "code",
   "execution_count": null,
   "metadata": {},
   "outputs": [],
   "source": [
    "#Sum R + T\n",
    "a = df_p_t_corr['Coff'] + df_p_r_corr['Coff'] \n",
    "b = df_s_t_corr['Coff'] + df_s_r_corr['Coff']"
   ]
  },
  {
   "cell_type": "code",
   "execution_count": null,
   "metadata": {},
   "outputs": [],
   "source": [
    "def err_prop_p(x):\n",
    "    return (1/abs(Ip0))*np.sqrt(x[-2]**2 + (x[2]/Ip0)**2*Ip_err**2)\n",
    "\n",
    "def err_prop_s(x):\n",
    "    return (1/abs(Is0))*np.sqrt(x[-2]**2 + (x[2]/Is0)**2*Is_err**2)\n",
    "\n",
    "err_p = []\n",
    "for x in dfs_p:\n",
    "    a = x.apply(err_prop_p, axis = 1)\n",
    "    err_p.append(a)\n",
    "\n",
    "err_s = []\n",
    "for x in dfs_s:\n",
    "    a = x.apply(err_prop_s, axis = 1)\n",
    "    err_s.append(a)"
   ]
  },
  {
   "cell_type": "code",
   "execution_count": null,
   "metadata": {},
   "outputs": [],
   "source": [
    "df_s_t_corr['Err_Coff'] = err_s[0]\n",
    "df_s_r_corr['Err_Coff'] = err_s[1]\n",
    "\n",
    "df_p_t_corr['Err_Coff'] = err_p[0]\n",
    "df_p_r_corr['Err_Coff'] = err_p[1]"
   ]
  },
  {
   "cell_type": "code",
   "execution_count": null,
   "metadata": {},
   "outputs": [],
   "source": [
    "#Sketch\n",
    "fig, ax = plt.subplots(figsize=(10,5))\n",
    "plt.errorbar(x=df_p_r_corr['Angle'],y=df_p_r_corr['Coff'],\n",
    "             fmt='o',mfc='r',mec='r',ms=8,\n",
    "             xerr=df_p_r_corr['Angle_alpha'],yerr=df_p_r_corr['Err_Coff'], \n",
    "             ecolor='k',label='R_p')\n",
    "\n",
    "plt.errorbar(x=df_s_r_corr['Angle'],y=df_s_r_corr['Coff'],\n",
    "             fmt='o',mfc='b',mec='b',ms=8,\n",
    "             xerr=df_s_r_corr['Angle_alpha'],yerr=df_s_r_corr['Err_Coff'], \n",
    "             ecolor='k',label='R_s')\n",
    "ax.grid()\n",
    "ax.legend()"
   ]
  },
  {
   "cell_type": "code",
   "execution_count": null,
   "metadata": {},
   "outputs": [],
   "source": [
    "#Samlet DF\n",
    "Final_df = df_p_t_corr[['Angle','Angle_alpha']].copy()\n",
    "Final_df['Coff_Rp'] = df_p_r_corr['Coff']\n",
    "Final_df['Coff_Rp_err'] = df_p_r_corr['Err_Coff']\n",
    "Final_df['Coff_Rs'] = df_s_r_corr['Coff']\n",
    "Final_df['Coff_Rs_err'] = df_s_r_corr['Err_Coff']\n",
    "\n",
    "Final_df['Coff_Tp'] = df_p_t_corr['Coff']\n",
    "Final_df['Coff_Tp_err'] = df_p_t_corr['Err_Coff']\n",
    "Final_df['Coff_Ts'] = df_s_t_corr['Coff']\n",
    "Final_df['Coff_Ts_err'] = df_s_t_corr['Err_Coff']\n",
    "\n",
    "Final_df.to_csv('Samlet_df.csv', index=False)"
   ]
  }
 ],
 "metadata": {
  "kernelspec": {
   "display_name": "Python 3",
   "language": "python",
   "name": "python3"
  },
  "language_info": {
   "codemirror_mode": {
    "name": "ipython",
    "version": 3
   },
   "file_extension": ".py",
   "mimetype": "text/x-python",
   "name": "python",
   "nbconvert_exporter": "python",
   "pygments_lexer": "ipython3",
   "version": "3.8.3"
  }
 },
 "nbformat": 4,
 "nbformat_minor": 4
}
