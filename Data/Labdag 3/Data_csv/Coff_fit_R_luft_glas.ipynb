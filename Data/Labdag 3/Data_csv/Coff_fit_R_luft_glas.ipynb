{
 "cells": [
  {
   "cell_type": "code",
   "execution_count": 3,
   "metadata": {},
   "outputs": [
    {
     "data": {
      "text/html": [
       "<div>\n",
       "<style scoped>\n",
       "    .dataframe tbody tr th:only-of-type {\n",
       "        vertical-align: middle;\n",
       "    }\n",
       "\n",
       "    .dataframe tbody tr th {\n",
       "        vertical-align: top;\n",
       "    }\n",
       "\n",
       "    .dataframe thead th {\n",
       "        text-align: right;\n",
       "    }\n",
       "</style>\n",
       "<table border=\"1\" class=\"dataframe\">\n",
       "  <thead>\n",
       "    <tr style=\"text-align: right;\">\n",
       "      <th></th>\n",
       "      <th>Angle_small</th>\n",
       "      <th>Angle_alpha</th>\n",
       "      <th>Angle_big_r</th>\n",
       "      <th>Coff_Rp</th>\n",
       "      <th>Coff_Rp_err</th>\n",
       "      <th>Coff_Rs</th>\n",
       "      <th>Coff_Rs_err</th>\n",
       "    </tr>\n",
       "  </thead>\n",
       "  <tbody>\n",
       "    <tr>\n",
       "      <th>0</th>\n",
       "      <td>40</td>\n",
       "      <td>0.5</td>\n",
       "      <td>101</td>\n",
       "      <td>0.003581</td>\n",
       "      <td>0.007638</td>\n",
       "      <td>0.008828</td>\n",
       "      <td>0.004561</td>\n",
       "    </tr>\n",
       "    <tr>\n",
       "      <th>1</th>\n",
       "      <td>45</td>\n",
       "      <td>0.5</td>\n",
       "      <td>91</td>\n",
       "      <td>0.005081</td>\n",
       "      <td>0.007379</td>\n",
       "      <td>0.012986</td>\n",
       "      <td>0.004889</td>\n",
       "    </tr>\n",
       "    <tr>\n",
       "      <th>2</th>\n",
       "      <td>50</td>\n",
       "      <td>0.5</td>\n",
       "      <td>81</td>\n",
       "      <td>0.002500</td>\n",
       "      <td>0.011643</td>\n",
       "      <td>0.015456</td>\n",
       "      <td>0.005689</td>\n",
       "    </tr>\n",
       "    <tr>\n",
       "      <th>3</th>\n",
       "      <td>55</td>\n",
       "      <td>0.5</td>\n",
       "      <td>71</td>\n",
       "      <td>-0.001737</td>\n",
       "      <td>0.008451</td>\n",
       "      <td>0.020470</td>\n",
       "      <td>0.007523</td>\n",
       "    </tr>\n",
       "    <tr>\n",
       "      <th>4</th>\n",
       "      <td>60</td>\n",
       "      <td>0.5</td>\n",
       "      <td>61</td>\n",
       "      <td>0.000838</td>\n",
       "      <td>0.008702</td>\n",
       "      <td>0.027704</td>\n",
       "      <td>0.003813</td>\n",
       "    </tr>\n",
       "    <tr>\n",
       "      <th>5</th>\n",
       "      <td>65</td>\n",
       "      <td>0.5</td>\n",
       "      <td>51</td>\n",
       "      <td>0.009197</td>\n",
       "      <td>0.011283</td>\n",
       "      <td>0.038872</td>\n",
       "      <td>0.003916</td>\n",
       "    </tr>\n",
       "    <tr>\n",
       "      <th>6</th>\n",
       "      <td>70</td>\n",
       "      <td>0.5</td>\n",
       "      <td>41</td>\n",
       "      <td>0.026208</td>\n",
       "      <td>0.006000</td>\n",
       "      <td>0.054822</td>\n",
       "      <td>0.006590</td>\n",
       "    </tr>\n",
       "    <tr>\n",
       "      <th>7</th>\n",
       "      <td>75</td>\n",
       "      <td>0.5</td>\n",
       "      <td>31</td>\n",
       "      <td>0.075747</td>\n",
       "      <td>0.009714</td>\n",
       "      <td>0.076706</td>\n",
       "      <td>0.004515</td>\n",
       "    </tr>\n",
       "    <tr>\n",
       "      <th>8</th>\n",
       "      <td>80</td>\n",
       "      <td>0.5</td>\n",
       "      <td>21</td>\n",
       "      <td>0.167056</td>\n",
       "      <td>0.008409</td>\n",
       "      <td>0.101712</td>\n",
       "      <td>0.004693</td>\n",
       "    </tr>\n",
       "  </tbody>\n",
       "</table>\n",
       "</div>"
      ],
      "text/plain": [
       "   Angle_small  Angle_alpha  Angle_big_r   Coff_Rp  Coff_Rp_err   Coff_Rs  \\\n",
       "0           40          0.5          101  0.003581     0.007638  0.008828   \n",
       "1           45          0.5           91  0.005081     0.007379  0.012986   \n",
       "2           50          0.5           81  0.002500     0.011643  0.015456   \n",
       "3           55          0.5           71 -0.001737     0.008451  0.020470   \n",
       "4           60          0.5           61  0.000838     0.008702  0.027704   \n",
       "5           65          0.5           51  0.009197     0.011283  0.038872   \n",
       "6           70          0.5           41  0.026208     0.006000  0.054822   \n",
       "7           75          0.5           31  0.075747     0.009714  0.076706   \n",
       "8           80          0.5           21  0.167056     0.008409  0.101712   \n",
       "\n",
       "   Coff_Rs_err  \n",
       "0     0.004561  \n",
       "1     0.004889  \n",
       "2     0.005689  \n",
       "3     0.007523  \n",
       "4     0.003813  \n",
       "5     0.003916  \n",
       "6     0.006590  \n",
       "7     0.004515  \n",
       "8     0.004693  "
      ]
     },
     "execution_count": 3,
     "metadata": {},
     "output_type": "execute_result"
    }
   ],
   "source": [
    "import numpy as np\n",
    "import matplotlib.pyplot as plt\n",
    "import scipy.stats as ss\n",
    "from scipy.optimize import curve_fit\n",
    "import pandas as pd\n",
    "import glob\n",
    "import seaborn as sns\n",
    "\n",
    "df_in = pd.read_csv('Samlet_luft_til_glas_df.csv')\n",
    "df = df_in[['Angle_small','Angle_alpha','Angle_big_r','Coff_Rp','Coff_Rp_err','Coff_Rs','Coff_Rs_err']]\n",
    "df"
   ]
  },
  {
   "cell_type": "code",
   "execution_count": 9,
   "metadata": {},
   "outputs": [
    {
     "data": {
      "text/plain": [
       "<matplotlib.legend.Legend at 0x2ab78bae640>"
      ]
     },
     "execution_count": 9,
     "metadata": {},
     "output_type": "execute_result"
    },
    {
     "data": {
      "image/png": "[encoded data removed]",
      "text/plain": [
       "<Figure size 720x360 with 1 Axes>"
      ]
     },
     "metadata": {
      "needs_background": "light"
     },
     "output_type": "display_data"
    }
   ],
   "source": [
    "#Sketch\n",
    "fig, ax = plt.subplots(figsize=(10,5))\n",
    "ax.errorbar(x=df['Angle_small'],y=df['Coff_Rp'],\n",
    "             fmt='o',mfc='r',mec='r',ms=8,\n",
    "             xerr=df['Angle_alpha'],yerr=df['Coff_Rp_err'], \n",
    "             ecolor='k',label='R_p')\n",
    "\n",
    "ax.errorbar(x=df['Angle_small'],y=df['Coff_Rs'],\n",
    "             fmt='o',mfc='b',mec='b',ms=8,\n",
    "             xerr=df['Angle_alpha'],yerr=df['Coff_Rs_err'], \n",
    "             ecolor='k',label='R_s')\n",
    "ax.grid()\n",
    "ax.legend()"
   ]
  },
  {
   "cell_type": "code",
   "execution_count": null,
   "metadata": {},
   "outputs": [],
   "source": []
  }
 ],
 "metadata": {
  "kernelspec": {
   "display_name": "Python 3",
   "language": "python",
   "name": "python3"
  },
  "language_info": {
   "codemirror_mode": {
    "name": "ipython",
    "version": 3
   },
   "file_extension": ".py",
   "mimetype": "text/x-python",
   "name": "python",
   "nbconvert_exporter": "python",
   "pygments_lexer": "ipython3",
   "version": "3.8.3"
  }
 },
 "nbformat": 4,
 "nbformat_minor": 4
}
